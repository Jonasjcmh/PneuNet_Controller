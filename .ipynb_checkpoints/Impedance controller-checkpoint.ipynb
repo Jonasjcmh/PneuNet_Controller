{
 "cells": [
  {
   "cell_type": "markdown",
   "id": "244fd87a",
   "metadata": {},
   "source": [
    "# Adaptative Impedance Controller "
   ]
  },
  {
   "cell_type": "markdown",
   "id": "dc1fdeae",
   "metadata": {},
   "source": [
    "Install the python libraries"
   ]
  },
  {
   "cell_type": "code",
   "execution_count": null,
   "id": "9cd82c9e",
   "metadata": {},
   "outputs": [],
   "source": [
    "from IPython.display import clear_output\n",
    "from IPython.display import Image\n"
   ]
  },
  {
   "cell_type": "code",
   "execution_count": null,
   "id": "797ba6ac",
   "metadata": {},
   "outputs": [],
   "source": [
    "Image(filename='pictures/anacondapromt.png')"
   ]
  },
  {
   "cell_type": "code",
   "execution_count": null,
   "id": "644dfdfd",
   "metadata": {},
   "outputs": [],
   "source": [
    "import time\n",
    "import serial         #conda install -c anaconda pyserial\n",
    "import numpy as np    #conda install -c anaconda numpy\n",
    "import numpy.linalg as la\n",
    "from datetime import datetime\n",
    "import math\n",
    "import json          #conda install -c jmcmurray json  \n",
    "from scipy import stats  #conda install -c anaconda scipy\n",
    "import matplotlib.pyplot as plt  #conda install -c conda-forge matplotlib"
   ]
  },
  {
   "cell_type": "markdown",
   "id": "219b9fab",
   "metadata": {},
   "source": [
    "***\n",
    "$\\mathbf{\\text{Basic Control Functions}}$<br>\n",
    "***"
   ]
  },
  {
   "cell_type": "code",
   "execution_count": null,
   "id": "a2835c5d",
   "metadata": {},
   "outputs": [],
   "source": [
    "Image(filename='pictures/pneumaticsystem.png')"
   ]
  },
  {
   "cell_type": "code",
   "execution_count": null,
   "id": "8f372208",
   "metadata": {},
   "outputs": [],
   "source": [
    "def star_communication(port):\n",
    "    ser = serial.Serial(port, 115200, timeout=1)   #Include the number of the serial port\n",
    "    return ser\n",
    "    \n",
    "def close_communication(ser):\n",
    "    motor_control(ser,1)\n",
    "    ser.close()\n",
    "\n",
    "\n",
    "def read_data(ser):\n",
    "    #ser_bytes = ser.readline()\n",
    "    ser.flushInput()\n",
    "    time.sleep(0.015)\n",
    "    ser_bytes = ser.readline(ser.inWaiting())\n",
    "    decoded_bytes = ser_bytes.decode()\n",
    "    if len(decoded_bytes)>0 :\n",
    "        decoded_bytes=decoded_bytes.strip()\n",
    "        separated_data=decoded_bytes.split(\",\")\n",
    "        if len(separated_data[0])>=4:\n",
    "            integer_data = [i for i in separated_data]\n",
    "            integer_array= np.array(integer_data)\n",
    "        else:\n",
    "            integer_array=np.zeros(5)\n",
    "            integer_array[0]=2000\n",
    "    else:\n",
    "        integer_array=np.zeros(5)\n",
    "        integer_array[0]=2000\n",
    "    return integer_array\n",
    "\n",
    "    \n",
    "def feedback_data(ser):              #current angle, current pressure, set_point(pressure or angle controller depends of the control), motor_speed\n",
    "    integer_array=read_data(ser)\n",
    "    while len(integer_array)<5 or integer_array[0]==2000:\n",
    "        integer_array=read_data(ser)\n",
    "    integer_array2=integer_array\n",
    "    return integer_array2\n",
    "\n",
    "\n"
   ]
  },
  {
   "cell_type": "code",
   "execution_count": null,
   "id": "6de089ac",
   "metadata": {},
   "outputs": [],
   "source": [
    "Image(filename='pictures/pid.png')"
   ]
  },
  {
   "cell_type": "code",
   "execution_count": null,
   "id": "83f2e28f",
   "metadata": {},
   "outputs": [],
   "source": [
    "Image(filename='pictures/pid_response.png')"
   ]
  },
  {
   "cell_type": "code",
   "execution_count": null,
   "id": "eb406c20",
   "metadata": {},
   "outputs": [],
   "source": [
    "def motor_control(ser, speed_val):    #speed on the range of +255 to -255, Negative values just open the valve and stop the pump, 0 stops the pump but valve is still working\n",
    "    ser_bytes = ser.readline()\n",
    "    ser.flushInput()\n",
    "    time.sleep(0.001)\n",
    "    motor_speed=str(speed_val)\n",
    "    cmd='m'+motor_speed+'\\n'\n",
    "    print(cmd)\n",
    "    ser.write(bytes(cmd, encoding='ascii'))\n",
    "\n",
    "def pressure_control(ser, pressure_val):    #pressure on the range of 0 to +25 kpa\n",
    "    ser_bytes = ser.readline()\n",
    "    ser.flushInput()\n",
    "    time.sleep(0.001)\n",
    "    motor_pressure=str(pressure_val)\n",
    "    cmd='p'+motor_pressure+'\\n'\n",
    "    print(cmd)\n",
    "    ser.write(bytes(cmd, encoding='ascii'))\n",
    "    \n",
    "def bend_control(ser, bend_val):    #angle on the range of 0 to +180\n",
    "    ser_bytes = ser.readline()\n",
    "    ser.flushInput()\n",
    "    time.sleep(0.001)\n",
    "    motor_bend=str(bend_val)\n",
    "    cmd='a'+motor_bend+'\\n'\n",
    "    print(cmd)\n",
    "    ser.write(bytes(cmd, encoding='ascii'))"
   ]
  },
  {
   "cell_type": "markdown",
   "id": "dede3492",
   "metadata": {},
   "source": [
    "\n",
    "1.&emsp;Demo code for control functions usage <br>"
   ]
  },
  {
   "cell_type": "code",
   "execution_count": null,
   "id": "6f4ca27d",
   "metadata": {},
   "outputs": [],
   "source": [
    "ser=star_communication('COM14')\n",
    "motor_control(ser,50)        #Activating speed control with setpoint at 50\n",
    "time.sleep(5)\n",
    "pressure_control(ser, 22)    #Activating pressure control with setpoint at 22\n",
    "time.sleep(5)\n",
    "bend_control(ser, 90)        #Activating angle control with setpoint at 90\n",
    "time.sleep(5)\n",
    "values=feedback_data(ser)    #Getting data from microcontroller\n",
    "time.sleep(0.1)\n",
    "print(values)\n",
    "values=feedback_data(ser)\n",
    "time.sleep(0.1)\n",
    "print(values)\n",
    "close_communication(ser)"
   ]
  },
  {
   "cell_type": "code",
   "execution_count": null,
   "id": "7256d3a8",
   "metadata": {},
   "outputs": [],
   "source": [
    "ser=star_communication('COM14')\n",
    "time.sleep(2)\n",
    "motor_control(ser,-10)\n",
    "time.sleep(1)\n",
    "ser.close()"
   ]
  },
  {
   "cell_type": "markdown",
   "id": "983f17e2",
   "metadata": {},
   "source": [
    "2.&emsp;Demo code for simple close loop control <br>"
   ]
  },
  {
   "cell_type": "code",
   "execution_count": null,
   "id": "d67888d8",
   "metadata": {},
   "outputs": [],
   "source": [
    "i=0\n",
    "ser=star_communication('COM14')\n",
    "bend_control(ser, 90)\n",
    "values=feedback_data(ser)\n",
    "while (i<600):                      # Close loop controller\n",
    "    bend_control(ser, 90)\n",
    "    time.sleep(0.01)\n",
    "    values=feedback_data(ser)\n",
    "    print(str(i)+' '+str(values))\n",
    "    i=i+1\n",
    "close_communication(ser)"
   ]
  },
  {
   "cell_type": "code",
   "execution_count": null,
   "id": "083c8a3d",
   "metadata": {},
   "outputs": [],
   "source": [
    "ser=star_communication('COM14')\n",
    "time.sleep(2)\n",
    "motor_control(ser,-10)\n",
    "time.sleep(1)\n",
    "ser.close()"
   ]
  },
  {
   "cell_type": "markdown",
   "id": "26b44683",
   "metadata": {},
   "source": [
    "***\n",
    "$\\mathbf{\\text{Zero-torque Trajectory}}$<br>\n",
    "***\n",
    "1.&emsp;The zero-torque trajectory of the controller, $q_{d}(t)$ followed a minimum-jerk trajectory <br>\n",
    "\n",
    "$$q_{d}(t) = q_{i} + (q_{f} - q_{i}) \\Bigg[ 10 (\\frac{t}{D})^3 - 15 (\\frac{t}{D})^4 + 6 (\\frac{t}{D})^5 \\Bigg]   (4)$$\n",
    "\n",
    "**Cite**: Equation (4) at Xiong, X., Nah, M. C., Krotov, A., & Sternad, D. (Accepted/In press). Online Impedance Adaptation Facilitates Manipulating a Whip. In Proceedings of the International Conference on Intelligent Robots and Systems (IROS 2021) IEEE.[Link](https://github.com/Jonasjcmh/PneuNet_Controller/blob/main/References/IROS21_1612_MS.pdf)\n",
    "\n",
    "**Task**: Complete the function des_tra(self, t, dt), based on the equation 4 and the input parameters $q_{i}=$self.ini_ang, $q_{f}=$self.end_ang, $D=$self.dur <br>\n",
    "**Use the function np.power(value,exponent)<br>"
   ]
  },
  {
   "cell_type": "code",
   "execution_count": null,
   "id": "8ed4fadb",
   "metadata": {},
   "outputs": [],
   "source": [
    "Image(filename='pictures/minimal_jerk.png')"
   ]
  },
  {
   "cell_type": "raw",
   "id": "0c5e5e19",
   "metadata": {},
   "source": [
    " #minimal jerk trajectory\n",
    "        self.ini_ang = 0.0   #q_i\n",
    "        self.end_ang = 60.0  #q_f\n",
    "        self.dur = 2.0       #D\n",
    "        self.pre_ang = 0.0\n",
    "        \n",
    "        self.a = 0.2\n",
    "        self.b = 44000.0\n",
    "        self.k = 0.05"
   ]
  },
  {
   "cell_type": "code",
   "execution_count": null,
   "id": "830d5f30",
   "metadata": {},
   "outputs": [],
   "source": [
    "def des_tra(self, t, dt):   ####Trajectory planner### minimum jerk trajectory equation 4 iros2021\n",
    "        \n",
    "        \n",
    "        des_ang =  .....................\n",
    "        \n",
    "        deg_vel = (des_ang - self.pre_ang)/dt\n",
    "        self.pre_ang = np.copy(des_ang)\n",
    "        return des_ang, deg_vel"
   ]
  },
  {
   "cell_type": "markdown",
   "id": "2c2f3c8c",
   "metadata": {},
   "source": [
    "***\n",
    "$\\mathbf{\\text{Adaptative Motor Controller}}$<br>\n",
    "***"
   ]
  },
  {
   "cell_type": "code",
   "execution_count": null,
   "id": "9bd1420a",
   "metadata": {},
   "outputs": [],
   "source": [
    "Image(filename='pictures/acm.png')"
   ]
  },
  {
   "cell_type": "markdown",
   "id": "1a84ee52",
   "metadata": {},
   "source": [
    "1.&emsp;The position error $e(t)$, velocity error $\\dot{e}(t)$, and tracking error $\\varepsilon(t)$ are given by:  <br>\n",
    "\n",
    "$$e(t)=q(t)-q_{d}(t)$$\n",
    "$$\\dot{e}(t)=\\dot{q}(t)-\\dot{q}_{d}(t)$$\n",
    "$$\\varepsilon(t)=e(t)+\\beta\\dot{e}(t)$$\n",
    "\n",
    "**Cite**: Equation (3) at X. Xiong and P. Manoonpong, \"Adaptive Motor Control for Human-like Spatial-temporal Adaptation,\" 2018 IEEE International Conference on Robotics and Biomimetics (ROBIO), 2018, pp. 2107-2112, doi: 10.1109/ROBIO.2018.8665222. [Link](https://github.com/Jonasjcmh/PneuNet_Controller/blob/main/References/root.pdf)\n",
    "\n",
    "**Task**: Complete the function gen_vel_err(self), gen_track_err(self), based on the equation 3 and the input parameters $q=$self.q, $\\dot{q}(t)=$self.dq, <br>\n",
    "$\\dot{q}_{d}(t)=$self.dq_d, $\\beta=$self.k\n"
   ]
  },
  {
   "cell_type": "code",
   "execution_count": null,
   "id": "7d980f54",
   "metadata": {},
   "outputs": [],
   "source": [
    "def gen_pos_err(self):   ## 2018 equ. 3\n",
    "        #print np.mat(self.arm.q).shape, self.task.ref_traj_ang.shape\n",
    "        return (self.q - self.q_d)\n",
    "\n",
    "def gen_vel_err(self):   ## 2018 equ. 3\n",
    "        #print np.mat(self.arm.dq).shape, self.task.ref_traj_vel.shape\n",
    "        return (................)\n",
    "\n",
    "def gen_track_err(self):  ## 2018 equ. 3\n",
    "        return (................)"
   ]
  },
  {
   "cell_type": "markdown",
   "id": "7db7ba31",
   "metadata": {},
   "source": [
    "2.&emsp;$\\gamma(t)$ is an adaptation scalar with the positive scalrs $a$ and $b$, defined as follows:  <br>\n",
    "\n",
    "$$\\gamma(t)=\\frac{a}{1+b \\mid\\mid \\varepsilon(t) \\mid\\mid^2 }$$\n",
    "\n",
    "\n",
    "**Cite**: Equation (9) at X. Xiong and P. Manoonpong, \"Adaptive Motor Control for Human-like Spatial-temporal Adaptation,\" 2018 IEEE International Conference on Robotics and Biomimetics (ROBIO), 2018, pp. 2107-2112, doi: 10.1109/ROBIO.2018.8665222. [Link](https://github.com/Jonasjcmh/PneuNet_Controller/blob/main/References/root.pdf)\n",
    "\n",
    "**Task**: Complete the function gen_for_factor(self), based on the equation 9 and the input parameters $a=$self.a, $b=$self.b, and $\\varepsilon(t)=$gen_track_err()<br>\n",
    "\n",
    "To calculate the norm of the equation you can use the function la.norm()<br>\n"
   ]
  },
  {
   "cell_type": "code",
   "execution_count": null,
   "id": "35fbacc3",
   "metadata": {},
   "outputs": [],
   "source": [
    "def gen_for_factor(self):  ## 2018 equ. 9  adaptation rate\n",
    "        return ................)"
   ]
  },
  {
   "cell_type": "markdown",
   "id": "0aa79144",
   "metadata": {},
   "source": [
    "3.&emsp;The force and impedance adaptation is guided by: <br>\n",
    "\n",
    "$$F(t)=\\frac{\\varepsilon(t)}{\\gamma(t)}$$ <br>\n",
    "$$K(t)=F(t)e^T(t)$$  <br>\n",
    "$$D(t)=F(t)\\dot{e}^T(t)$$ <br>\n",
    "\n",
    "\n",
    "\n",
    "**Cite**: Equation (8) at X. Xiong and P. Manoonpong, \"Adaptive Motor Control for Human-like Spatial-temporal Adaptation,\" 2018 IEEE International Conference on Robotics and Biomimetics (ROBIO), 2018, pp. 2107-2112, doi: 10.1109/ROBIO.2018.8665222. [Link](https://github.com/Jonasjcmh/PneuNet_Controller/blob/main/References/root.pdf)\n",
    "\n",
    "**Task**: Complete the function update_impedance(self, q, q_d, dq, dq_d), based on the equation 8 and the input parameters <br>\n",
    "$\\varepsilon(t)=$gen_track_err(), <br>\n",
    "$\\gamma(t)=$gen_for_factor(), <br>\n",
    "$e=$gen_pos_err(), <br>\n",
    "$\\dot{e}=$gen_vel_err().  <br>\n",
    "\n",
    "**To calculate the transposed matrix of the vector you can use the function ndarray.T(), e.g. $e^T(t)=$self.gen_pos_err().T<br>"
   ]
  },
  {
   "cell_type": "code",
   "execution_count": null,
   "id": "0bd1840b",
   "metadata": {},
   "outputs": [],
   "source": [
    "def update_impedance(self, q, q_d, dq, dq_d):   ### main function for impedance control equation 8 and 9 in 2018 paper\n",
    "\n",
    "        self.q = np.mat(np.copy(q)).T\n",
    "        self.q_d = np.mat(np.copy(q_d)).T\n",
    "\n",
    "        self.dq = np.mat(np.copy(dq)).T\n",
    "        self.dq_d = np.mat(np.copy(dq_d)).T\n",
    "\n",
    "        self.k_mat = ..................         #stiffness\n",
    "\n",
    "        self.d_mat = ..................         # damping\n",
    "\n",
    "        self.ff_tau_mat = self.gen_track_err() / self.gen_for_factor()\n",
    "\n",
    "        return self.k_mat, self.d_mat, self.ff_tau_mat\n"
   ]
  },
  {
   "cell_type": "markdown",
   "id": "255ebbe9",
   "metadata": {},
   "source": [
    "***\n",
    "$\\mathbf{\\text{Adaptative impedance controller Class}}$<br>\n",
    "***"
   ]
  },
  {
   "cell_type": "code",
   "execution_count": null,
   "id": "ca803993",
   "metadata": {},
   "outputs": [],
   "source": [
    "class ada_imp_con( ):\n",
    "    def __init__(self, dof):\n",
    "        self.DOF = dof\n",
    "        self.k_mat = np.mat(np.zeros((self.DOF, self.DOF)))\n",
    "        self.d_mat = np.mat(np.zeros((self.DOF, self.DOF)))\n",
    "        self.ff_tau_mat = np.mat(np.zeros((self.DOF, 1)))\n",
    "\n",
    "        self.q = np.mat(np.zeros((self.DOF, 1)))\n",
    "        self.q_d = np.mat(np.zeros((self.DOF, 1)))\n",
    "\n",
    "        self.dq = np.mat(np.zeros((self.DOF, 1)))\n",
    "        self.dq_d = np.mat(np.zeros((self.DOF, 1)))\n",
    "        self.a = 0.2\n",
    "        self.b = 44000.0#35000.0#5.0\n",
    "        self.k = 0.05#\n",
    "\n",
    "        #minimal jerk trajectory\n",
    "        self.ini_ang = 0.0   #q_i\n",
    "        self.end_ang = 60.0  #q_f\n",
    "        self.dur = 2.0       #D\n",
    "        self.pre_ang = 0.0\n",
    "        \n",
    "        \n",
    "    def des_tra(self, t, dt):   ####Trajectory planner### minimum jerk trajectory equation 4 iros2021\n",
    "        des_ang = self.ini_ang + ( self.end_ang - self.ini_ang ) * ( 10 * np.power(t,3 ) / ( self.dur ** 3 ) - 15 * np.power(t, 4 ) / ( self.dur ** 4 ) +  6 * np.power( t, 5 ) / ( self.dur ** 5 ) )\n",
    "        deg_vel = (des_ang - self.pre_ang)/dt\n",
    "        self.pre_ang = np.copy(des_ang)\n",
    "        return des_ang, deg_vel\n",
    "    \n",
    "    \n",
    "    def gen_pos_err(self):   ## 2018 equ. 3\n",
    "      ##Complete ###\n",
    "\n",
    "    def gen_vel_err(self):   ## 2018 equ. 3\n",
    "      ##Complete ###\n",
    "\n",
    "    def gen_track_err(self):  ## 2018 equ. 3\n",
    "      ##Complete ###\n",
    "\n",
    "    def gen_for_factor(self):  ## 2018 equ. 9  adaptation rate\n",
    "      ##Complete ###\n",
    "    \n",
    "    def update_impedance(self, q, q_d, dq, dq_d):   ### main function for impedance control equation 8 and 9 in 2018 paper\n",
    "        self.q = np.mat(np.copy(q)).T\n",
    "        self.q_d = np.mat(np.copy(q_d)).T\n",
    "        self.dq = np.mat(np.copy(dq)).T\n",
    "        self.dq_d = np.mat(np.copy(dq_d)).T\n",
    "\n",
    "        self.k_mat = ##Complete ###\n",
    "\n",
    "        self.d_mat = ##Complete ###\n",
    "\n",
    "        self.ff_tau_mat = self.gen_track_err() / self.gen_for_factor()\n",
    "        \n",
    "        return self.k_mat, self.d_mat, self.ff_tau_mat\n",
    "\n"
   ]
  },
  {
   "cell_type": "code",
   "execution_count": null,
   "id": "edf71b29",
   "metadata": {},
   "outputs": [],
   "source": [
    "# %load scripts/ada_imp_con.py"
   ]
  },
  {
   "cell_type": "markdown",
   "id": "c700545d",
   "metadata": {},
   "source": [
    "***\n",
    "$\\mathbf{\\text{Demo version: Control loop for soft actuator}}$<br>\n",
    "***\n",
    "\n",
    "Initial parameters"
   ]
  },
  {
   "cell_type": "code",
   "execution_count": null,
   "id": "1df89b52",
   "metadata": {},
   "outputs": [],
   "source": [
    "ser=star_communication('COM14')\n",
    "\n",
    "n_t=0.0                           ## runing time\n",
    "duration = 30                     ## total process time\n",
    "pre_t = 0.0                       ##previous time n-1\n",
    "DOF = 1                           ## control degrees of freedom\n",
    "\n",
    "ada = ada_imp_con(DOF)            ##initialization of the adaptative function\n",
    "\n",
    "ada.end_ang = 120.0               ## maximal point to reach\n",
    "ada = ada_imp_con(DOF)            ##initialization of the adaptative function\n",
    "ada.dur = duration                ##duration of the whole trajectory\n",
    "\n",
    "\n",
    "motor_control(ser,1)              ##enough time for start the pump\n",
    "time.sleep(5)                     ##enough time for start the pump\n",
    "motor_val = 0.0                   ##control output to the pump\n",
    "max_mo_val = 250                  ## saturation value\n",
    "fb_motor_val = 0.                 ##feedback of the motor speed\n",
    "\n",
    "\n",
    "values=feedback_data(ser)        ##getting initial position of the robot\n",
    "in_ang = float(values[0])        ##getting initial position of the robot\n",
    "now_ang = np.copy(in_ang)        ##getting initial position of the robot\n",
    "pre_ang = np.copy(in_ang)        ##getting initial position of the robot\n",
    "now_vel = 0.0                    ##getting initial position of the robot\n",
    "\n",
    "alp= 0.9                         ##low-pass filter with a low bias from the input constant\n",
    "ave_ang_err = 0.0                ## angular error angle-desired angle\n",
    "t_s = 0                          ## sample time\n",
    "s_t = datetime.now()             ##current initial time"
   ]
  },
  {
   "cell_type": "markdown",
   "id": "9e4c02c2",
   "metadata": {},
   "source": [
    "1.&emsp;The $\\tau(t)$ produced by the AMC includes the force and impedance parts: <br>\n",
    "\n",
    "$$\\tau(t) = -F(t)-K(t)e(t)-D(t)\\dot{e}(t)   (2)$$\n",
    "\n",
    "**Cite**: Equation (2) at Xiong, X., Nah, M. C., Krotov, A., & Sternad, D. (Accepted/In press). Online Impedance Adaptation Facilitates Manipulating a Whip. In Proceedings of the International Conference on Intelligent Robots and Systems (IROS 2021) IEEE. [Link](https://github.com/Jonasjcmh/PneuNet_Controller/blob/main/References/root.pdf)\n",
    "\n",
    "**Task**: Complete the calculation of $\\tau(t)=$fb_motor_val, based on the equation 2 and the input parameters $-K=$k[0,0], $-D=$d[0,0],the error and velocity error are calculated based on the current angle (now_ang_rad), desired angle (des_ang_rad), current velocity (now_vel_rad), and desired velocity (des_vel_rad).<br>\n",
    "** e=des_ang_rad-now_ang_rad, F(t) = 0, "
   ]
  },
  {
   "cell_type": "code",
   "execution_count": null,
   "id": "4dadd1e2",
   "metadata": {},
   "outputs": [],
   "source": [
    "while (n_t < duration ):\n",
    "\n",
    "    diff_t = datetime.now() - s_t\n",
    "    n_t = diff_t.seconds + diff_t.microseconds/1E6               ##current process time\n",
    "\n",
    "    dt = n_t-pre_t                                               ## time for 1 iteration\n",
    "\n",
    "    des_ang, des_vel = ada.des_tra(n_t, dt)                      ##etting the desired trajectory \n",
    "    des_ang = in_ang + des_ang                                   ##initial position compensation (translation pos)\n",
    "\n",
    "    values=feedback_data(ser)\n",
    "\n",
    "    now_ang = float(values[0])                                  ##transforming to float value\n",
    "    now_ang = (alp * pre_ang) + (1.0-alp) * (now_ang)           ##low pass filter \n",
    "    if (dt > 0.0):                                              ##avoid undefinition\n",
    "        now_vel = (now_ang - pre_ang)/dt                        ##calculating the current speed \n",
    "    else:\n",
    "        now_vel = 0.0\n",
    "\n",
    "    \n",
    "    now_ang_rad = (now_ang/180.0)*math.pi   ##transforming in radians units  current angle\n",
    "    des_ang_rad = (des_ang/180.0)*math.pi   ##transforming in radians units  desired angle\n",
    "    now_vel_rad = (now_vel/180.0)*math.pi   ##transforming in radians units  current speed\n",
    "    des_vel_rad = (des_vel/180.0)*math.pi   ##transforming in radians units  desired speed\n",
    "    \n",
    "    k, d, ff = ada.update_impedance(now_ang_rad, des_ang_rad, now_vel_rad, des_vel_rad)     ##k stifness  d damping  ff not used\n",
    "    \n",
    "    fb_motor_val = ###Complete .....###  ##equation 2 2018\n",
    "    \n",
    "    print(n_t, des_ang_rad-now_ang_rad)                                                     ##fb_motor_val, k[0,0], d[0,0])#des_ang_rad-now_ang_rad)\n",
    "    ave_ang_err = ave_ang_err + abs(des_ang_rad-now_ang_rad)                                ##acumulated average error\n",
    "\n",
    "\n",
    "   \n",
    "    motor_val = des_ang * 2.5                     ##  feed forward control with constant a=2.5\n",
    "    motor_val = motor_val + fb_motor_val          ##  feedback control + ff control\n",
    "\n",
    "    if motor_val > max_mo_val:                    ##  saturation of the motor speed\n",
    "        motor_val = max_mo_val\n",
    "        print('out of limit!')\n",
    "        #break\n",
    "    motor_control(ser,motor_val)                 ##   asigning the value to the board\n",
    "    #print(motor_val, fb_motor_val)\n",
    "    #print(n_t, motor_val, des_ang, des_vel)\n",
    "\n",
    "    #print(values)\n",
    "    #print(dt)\n",
    "    t_s = t_s + 1\n",
    "\n",
    "\n",
    "    pre_t = np.copy(n_t)                         ##     saving the previous values for time\n",
    "    pre_ang = np.copy(now_ang)                   ##     saving the previous values for angle\n",
    "\n",
    "print(ave_ang_err/t_s)                           ##     average error\n",
    "close_communication(ser)"
   ]
  },
  {
   "cell_type": "code",
   "execution_count": null,
   "id": "6a48b394",
   "metadata": {},
   "outputs": [],
   "source": [
    "# %load scripts/acm_control.py"
   ]
  },
  {
   "cell_type": "code",
   "execution_count": null,
   "id": "3adc676e",
   "metadata": {},
   "outputs": [],
   "source": [
    "ser=star_communication('COM14')\n",
    "time.sleep(2)\n",
    "motor_control(ser,-10)\n",
    "time.sleep(1)\n",
    "ser.close()"
   ]
  },
  {
   "cell_type": "markdown",
   "id": "1f4d8427",
   "metadata": {},
   "source": [
    "***\n",
    "$\\mathbf{\\text{Sigmoid Function Estimation}}$<br>\n",
    "***"
   ]
  },
  {
   "cell_type": "code",
   "execution_count": null,
   "id": "a47df886",
   "metadata": {},
   "outputs": [],
   "source": [
    "import numpy as np\n",
    "import pylab\n",
    "from scipy.optimize import curve_fit"
   ]
  },
  {
   "cell_type": "code",
   "execution_count": null,
   "id": "50e4136a",
   "metadata": {},
   "outputs": [],
   "source": [
    "def sigmoid(x, x0, k):\n",
    "     y = 1 / (1 + np.exp(-k*(x-x0)))\n",
    "     return y"
   ]
  },
  {
   "cell_type": "code",
   "execution_count": null,
   "id": "0129318e",
   "metadata": {},
   "outputs": [],
   "source": [
    "xdata = np.array([0.0,   1.0,  3.0, 4.3, 7.0,   8.0,   8.5, 10.0, 12.0])\n",
    "ydata = np.array([0.01, 0.02, 0.04, 0.11, 0.43,  0.7, 0.89, 0.95, 0.99])"
   ]
  },
  {
   "cell_type": "code",
   "execution_count": null,
   "id": "e3aaeb68",
   "metadata": {},
   "outputs": [],
   "source": [
    "popt, pcov = curve_fit(sigmoid, xdata, ydata)\n",
    "print (popt)\n",
    "\n",
    "x = np.linspace(-1, 15, 50)\n",
    "y = sigmoid(x, *popt)\n",
    "\n",
    "pylab.plot(xdata, ydata, 'o', label='data')\n",
    "pylab.plot(x,y, label='fit')\n",
    "pylab.ylim(0, 1.05)\n",
    "pylab.legend(loc='best')\n",
    "pylab.show()"
   ]
  },
  {
   "cell_type": "code",
   "execution_count": null,
   "id": "32c24c49",
   "metadata": {},
   "outputs": [],
   "source": []
  }
 ],
 "metadata": {
  "kernelspec": {
   "display_name": "Python 3",
   "language": "python",
   "name": "python3"
  },
  "language_info": {
   "codemirror_mode": {
    "name": "ipython",
    "version": 3
   },
   "file_extension": ".py",
   "mimetype": "text/x-python",
   "name": "python",
   "nbconvert_exporter": "python",
   "pygments_lexer": "ipython3",
   "version": "3.8.8"
  }
 },
 "nbformat": 4,
 "nbformat_minor": 5
}
